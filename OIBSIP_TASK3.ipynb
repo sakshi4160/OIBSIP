{
 "cells": [
  {
   "cell_type": "markdown",
   "id": "aa350fa9",
   "metadata": {},
   "source": [
    "# TASK3 = CAR PRICE PREDICTION WITH MACHINE LEARNING\n"
   ]
  },
  {
   "cell_type": "markdown",
   "id": "c0a6209a",
   "metadata": {},
   "source": [
    "The price of a car depends on a lot of factors like the goodwill of the brand of the car,\n",
    "features of the car, horsepower and the mileage it gives and many more. \n",
    "\n",
    "Car price prediction is one of the major research areas in machine learning. \n",
    "\n",
    "So if you want to learn how to train a car price prediction model then this project is for you."
   ]
  },
  {
   "cell_type": "code",
   "execution_count": 1,
   "id": "823efd90",
   "metadata": {},
   "outputs": [],
   "source": [
    "import pandas as pd\n",
    "import numpy as np\n",
    "import matplotlib.pyplot as plt\n",
    "import seaborn as sns"
   ]
  },
  {
   "cell_type": "code",
   "execution_count": 2,
   "id": "6842fbf0",
   "metadata": {},
   "outputs": [],
   "source": [
    "df = pd.read_csv(\"car data.csv\")"
   ]
  },
  {
   "cell_type": "code",
   "execution_count": 3,
   "id": "87acc160",
   "metadata": {},
   "outputs": [
    {
     "data": {
      "text/html": [
       "<div>\n",
       "<style scoped>\n",
       "    .dataframe tbody tr th:only-of-type {\n",
       "        vertical-align: middle;\n",
       "    }\n",
       "\n",
       "    .dataframe tbody tr th {\n",
       "        vertical-align: top;\n",
       "    }\n",
       "\n",
       "    .dataframe thead th {\n",
       "        text-align: right;\n",
       "    }\n",
       "</style>\n",
       "<table border=\"1\" class=\"dataframe\">\n",
       "  <thead>\n",
       "    <tr style=\"text-align: right;\">\n",
       "      <th></th>\n",
       "      <th>Car_Name</th>\n",
       "      <th>Year</th>\n",
       "      <th>Selling_Price</th>\n",
       "      <th>Present_Price</th>\n",
       "      <th>Driven_kms</th>\n",
       "      <th>Fuel_Type</th>\n",
       "      <th>Selling_type</th>\n",
       "      <th>Transmission</th>\n",
       "      <th>Owner</th>\n",
       "    </tr>\n",
       "  </thead>\n",
       "  <tbody>\n",
       "    <tr>\n",
       "      <th>0</th>\n",
       "      <td>ritz</td>\n",
       "      <td>2014</td>\n",
       "      <td>3.35</td>\n",
       "      <td>5.59</td>\n",
       "      <td>27000</td>\n",
       "      <td>Petrol</td>\n",
       "      <td>Dealer</td>\n",
       "      <td>Manual</td>\n",
       "      <td>0</td>\n",
       "    </tr>\n",
       "    <tr>\n",
       "      <th>1</th>\n",
       "      <td>sx4</td>\n",
       "      <td>2013</td>\n",
       "      <td>4.75</td>\n",
       "      <td>9.54</td>\n",
       "      <td>43000</td>\n",
       "      <td>Diesel</td>\n",
       "      <td>Dealer</td>\n",
       "      <td>Manual</td>\n",
       "      <td>0</td>\n",
       "    </tr>\n",
       "    <tr>\n",
       "      <th>2</th>\n",
       "      <td>ciaz</td>\n",
       "      <td>2017</td>\n",
       "      <td>7.25</td>\n",
       "      <td>9.85</td>\n",
       "      <td>6900</td>\n",
       "      <td>Petrol</td>\n",
       "      <td>Dealer</td>\n",
       "      <td>Manual</td>\n",
       "      <td>0</td>\n",
       "    </tr>\n",
       "    <tr>\n",
       "      <th>3</th>\n",
       "      <td>wagon r</td>\n",
       "      <td>2011</td>\n",
       "      <td>2.85</td>\n",
       "      <td>4.15</td>\n",
       "      <td>5200</td>\n",
       "      <td>Petrol</td>\n",
       "      <td>Dealer</td>\n",
       "      <td>Manual</td>\n",
       "      <td>0</td>\n",
       "    </tr>\n",
       "    <tr>\n",
       "      <th>4</th>\n",
       "      <td>swift</td>\n",
       "      <td>2014</td>\n",
       "      <td>4.60</td>\n",
       "      <td>6.87</td>\n",
       "      <td>42450</td>\n",
       "      <td>Diesel</td>\n",
       "      <td>Dealer</td>\n",
       "      <td>Manual</td>\n",
       "      <td>0</td>\n",
       "    </tr>\n",
       "  </tbody>\n",
       "</table>\n",
       "</div>"
      ],
      "text/plain": [
       "  Car_Name  Year  Selling_Price  Present_Price  Driven_kms Fuel_Type  \\\n",
       "0     ritz  2014           3.35           5.59       27000    Petrol   \n",
       "1      sx4  2013           4.75           9.54       43000    Diesel   \n",
       "2     ciaz  2017           7.25           9.85        6900    Petrol   \n",
       "3  wagon r  2011           2.85           4.15        5200    Petrol   \n",
       "4    swift  2014           4.60           6.87       42450    Diesel   \n",
       "\n",
       "  Selling_type Transmission  Owner  \n",
       "0       Dealer       Manual      0  \n",
       "1       Dealer       Manual      0  \n",
       "2       Dealer       Manual      0  \n",
       "3       Dealer       Manual      0  \n",
       "4       Dealer       Manual      0  "
      ]
     },
     "execution_count": 3,
     "metadata": {},
     "output_type": "execute_result"
    }
   ],
   "source": [
    "df.head()"
   ]
  },
  {
   "cell_type": "code",
   "execution_count": 4,
   "id": "340a7db8",
   "metadata": {},
   "outputs": [
    {
     "data": {
      "text/plain": [
       "(301, 9)"
      ]
     },
     "execution_count": 4,
     "metadata": {},
     "output_type": "execute_result"
    }
   ],
   "source": [
    "df.shape"
   ]
  },
  {
   "cell_type": "code",
   "execution_count": 6,
   "id": "40d7212a",
   "metadata": {},
   "outputs": [
    {
     "data": {
      "text/html": [
       "<div>\n",
       "<style scoped>\n",
       "    .dataframe tbody tr th:only-of-type {\n",
       "        vertical-align: middle;\n",
       "    }\n",
       "\n",
       "    .dataframe tbody tr th {\n",
       "        vertical-align: top;\n",
       "    }\n",
       "\n",
       "    .dataframe thead th {\n",
       "        text-align: right;\n",
       "    }\n",
       "</style>\n",
       "<table border=\"1\" class=\"dataframe\">\n",
       "  <thead>\n",
       "    <tr style=\"text-align: right;\">\n",
       "      <th></th>\n",
       "      <th>Year</th>\n",
       "      <th>Selling_Price</th>\n",
       "      <th>Present_Price</th>\n",
       "      <th>Driven_kms</th>\n",
       "      <th>Owner</th>\n",
       "    </tr>\n",
       "  </thead>\n",
       "  <tbody>\n",
       "    <tr>\n",
       "      <th>count</th>\n",
       "      <td>301.000000</td>\n",
       "      <td>301.000000</td>\n",
       "      <td>301.000000</td>\n",
       "      <td>301.000000</td>\n",
       "      <td>301.000000</td>\n",
       "    </tr>\n",
       "    <tr>\n",
       "      <th>mean</th>\n",
       "      <td>2013.627907</td>\n",
       "      <td>4.661296</td>\n",
       "      <td>7.628472</td>\n",
       "      <td>36947.205980</td>\n",
       "      <td>0.043189</td>\n",
       "    </tr>\n",
       "    <tr>\n",
       "      <th>std</th>\n",
       "      <td>2.891554</td>\n",
       "      <td>5.082812</td>\n",
       "      <td>8.642584</td>\n",
       "      <td>38886.883882</td>\n",
       "      <td>0.247915</td>\n",
       "    </tr>\n",
       "    <tr>\n",
       "      <th>min</th>\n",
       "      <td>2003.000000</td>\n",
       "      <td>0.100000</td>\n",
       "      <td>0.320000</td>\n",
       "      <td>500.000000</td>\n",
       "      <td>0.000000</td>\n",
       "    </tr>\n",
       "    <tr>\n",
       "      <th>25%</th>\n",
       "      <td>2012.000000</td>\n",
       "      <td>0.900000</td>\n",
       "      <td>1.200000</td>\n",
       "      <td>15000.000000</td>\n",
       "      <td>0.000000</td>\n",
       "    </tr>\n",
       "    <tr>\n",
       "      <th>50%</th>\n",
       "      <td>2014.000000</td>\n",
       "      <td>3.600000</td>\n",
       "      <td>6.400000</td>\n",
       "      <td>32000.000000</td>\n",
       "      <td>0.000000</td>\n",
       "    </tr>\n",
       "    <tr>\n",
       "      <th>75%</th>\n",
       "      <td>2016.000000</td>\n",
       "      <td>6.000000</td>\n",
       "      <td>9.900000</td>\n",
       "      <td>48767.000000</td>\n",
       "      <td>0.000000</td>\n",
       "    </tr>\n",
       "    <tr>\n",
       "      <th>max</th>\n",
       "      <td>2018.000000</td>\n",
       "      <td>35.000000</td>\n",
       "      <td>92.600000</td>\n",
       "      <td>500000.000000</td>\n",
       "      <td>3.000000</td>\n",
       "    </tr>\n",
       "  </tbody>\n",
       "</table>\n",
       "</div>"
      ],
      "text/plain": [
       "              Year  Selling_Price  Present_Price     Driven_kms       Owner\n",
       "count   301.000000     301.000000     301.000000     301.000000  301.000000\n",
       "mean   2013.627907       4.661296       7.628472   36947.205980    0.043189\n",
       "std       2.891554       5.082812       8.642584   38886.883882    0.247915\n",
       "min    2003.000000       0.100000       0.320000     500.000000    0.000000\n",
       "25%    2012.000000       0.900000       1.200000   15000.000000    0.000000\n",
       "50%    2014.000000       3.600000       6.400000   32000.000000    0.000000\n",
       "75%    2016.000000       6.000000       9.900000   48767.000000    0.000000\n",
       "max    2018.000000      35.000000      92.600000  500000.000000    3.000000"
      ]
     },
     "execution_count": 6,
     "metadata": {},
     "output_type": "execute_result"
    }
   ],
   "source": [
    "df.describe()"
   ]
  },
  {
   "cell_type": "code",
   "execution_count": 7,
   "id": "3fe7caab",
   "metadata": {},
   "outputs": [
    {
     "data": {
      "text/plain": [
       "Car_Name         0\n",
       "Year             0\n",
       "Selling_Price    0\n",
       "Present_Price    0\n",
       "Driven_kms       0\n",
       "Fuel_Type        0\n",
       "Selling_type     0\n",
       "Transmission     0\n",
       "Owner            0\n",
       "dtype: int64"
      ]
     },
     "execution_count": 7,
     "metadata": {},
     "output_type": "execute_result"
    }
   ],
   "source": [
    "df.isnull().sum()"
   ]
  },
  {
   "cell_type": "code",
   "execution_count": 9,
   "id": "e1eab6cb",
   "metadata": {},
   "outputs": [
    {
     "name": "stdout",
     "output_type": "stream",
     "text": [
      "<class 'pandas.core.frame.DataFrame'>\n",
      "RangeIndex: 301 entries, 0 to 300\n",
      "Data columns (total 9 columns):\n",
      " #   Column         Non-Null Count  Dtype  \n",
      "---  ------         --------------  -----  \n",
      " 0   Car_Name       301 non-null    object \n",
      " 1   Year           301 non-null    int64  \n",
      " 2   Selling_Price  301 non-null    float64\n",
      " 3   Present_Price  301 non-null    float64\n",
      " 4   Driven_kms     301 non-null    int64  \n",
      " 5   Fuel_Type      301 non-null    object \n",
      " 6   Selling_type   301 non-null    object \n",
      " 7   Transmission   301 non-null    object \n",
      " 8   Owner          301 non-null    int64  \n",
      "dtypes: float64(2), int64(3), object(4)\n",
      "memory usage: 21.3+ KB\n"
     ]
    }
   ],
   "source": [
    "df.info()"
   ]
  },
  {
   "cell_type": "code",
   "execution_count": 10,
   "id": "4fc4acfb",
   "metadata": {},
   "outputs": [
    {
     "data": {
      "text/html": [
       "<div>\n",
       "<style scoped>\n",
       "    .dataframe tbody tr th:only-of-type {\n",
       "        vertical-align: middle;\n",
       "    }\n",
       "\n",
       "    .dataframe tbody tr th {\n",
       "        vertical-align: top;\n",
       "    }\n",
       "\n",
       "    .dataframe thead th {\n",
       "        text-align: right;\n",
       "    }\n",
       "</style>\n",
       "<table border=\"1\" class=\"dataframe\">\n",
       "  <thead>\n",
       "    <tr style=\"text-align: right;\">\n",
       "      <th></th>\n",
       "      <th>Car_Name</th>\n",
       "      <th>Year</th>\n",
       "      <th>Selling_Price</th>\n",
       "      <th>Present_Price</th>\n",
       "      <th>Driven_kms</th>\n",
       "      <th>Fuel_Type</th>\n",
       "      <th>Selling_type</th>\n",
       "      <th>Transmission</th>\n",
       "      <th>Owner</th>\n",
       "    </tr>\n",
       "  </thead>\n",
       "  <tbody>\n",
       "    <tr>\n",
       "      <th>0</th>\n",
       "      <td>ritz</td>\n",
       "      <td>2014</td>\n",
       "      <td>3.35</td>\n",
       "      <td>5.59</td>\n",
       "      <td>27000</td>\n",
       "      <td>Petrol</td>\n",
       "      <td>Dealer</td>\n",
       "      <td>Manual</td>\n",
       "      <td>0</td>\n",
       "    </tr>\n",
       "    <tr>\n",
       "      <th>1</th>\n",
       "      <td>sx4</td>\n",
       "      <td>2013</td>\n",
       "      <td>4.75</td>\n",
       "      <td>9.54</td>\n",
       "      <td>43000</td>\n",
       "      <td>Diesel</td>\n",
       "      <td>Dealer</td>\n",
       "      <td>Manual</td>\n",
       "      <td>0</td>\n",
       "    </tr>\n",
       "    <tr>\n",
       "      <th>2</th>\n",
       "      <td>ciaz</td>\n",
       "      <td>2017</td>\n",
       "      <td>7.25</td>\n",
       "      <td>9.85</td>\n",
       "      <td>6900</td>\n",
       "      <td>Petrol</td>\n",
       "      <td>Dealer</td>\n",
       "      <td>Manual</td>\n",
       "      <td>0</td>\n",
       "    </tr>\n",
       "    <tr>\n",
       "      <th>3</th>\n",
       "      <td>wagon r</td>\n",
       "      <td>2011</td>\n",
       "      <td>2.85</td>\n",
       "      <td>4.15</td>\n",
       "      <td>5200</td>\n",
       "      <td>Petrol</td>\n",
       "      <td>Dealer</td>\n",
       "      <td>Manual</td>\n",
       "      <td>0</td>\n",
       "    </tr>\n",
       "    <tr>\n",
       "      <th>4</th>\n",
       "      <td>swift</td>\n",
       "      <td>2014</td>\n",
       "      <td>4.60</td>\n",
       "      <td>6.87</td>\n",
       "      <td>42450</td>\n",
       "      <td>Diesel</td>\n",
       "      <td>Dealer</td>\n",
       "      <td>Manual</td>\n",
       "      <td>0</td>\n",
       "    </tr>\n",
       "  </tbody>\n",
       "</table>\n",
       "</div>"
      ],
      "text/plain": [
       "  Car_Name  Year  Selling_Price  Present_Price  Driven_kms Fuel_Type  \\\n",
       "0     ritz  2014           3.35           5.59       27000    Petrol   \n",
       "1      sx4  2013           4.75           9.54       43000    Diesel   \n",
       "2     ciaz  2017           7.25           9.85        6900    Petrol   \n",
       "3  wagon r  2011           2.85           4.15        5200    Petrol   \n",
       "4    swift  2014           4.60           6.87       42450    Diesel   \n",
       "\n",
       "  Selling_type Transmission  Owner  \n",
       "0       Dealer       Manual      0  \n",
       "1       Dealer       Manual      0  \n",
       "2       Dealer       Manual      0  \n",
       "3       Dealer       Manual      0  \n",
       "4       Dealer       Manual      0  "
      ]
     },
     "execution_count": 10,
     "metadata": {},
     "output_type": "execute_result"
    }
   ],
   "source": [
    "df.head(5)"
   ]
  },
  {
   "cell_type": "code",
   "execution_count": 12,
   "id": "e5da4635",
   "metadata": {},
   "outputs": [
    {
     "data": {
      "text/plain": [
       "<AxesSubplot:xlabel='Selling_Price'>"
      ]
     },
     "execution_count": 12,
     "metadata": {},
     "output_type": "execute_result"
    },
    {
     "data": {
      "image/png": "[encoded data removed]",
      "text/plain": [
       "<Figure size 432x288 with 1 Axes>"
      ]
     },
     "metadata": {
      "needs_background": "light"
     },
     "output_type": "display_data"
    }
   ],
   "source": [
    "sns.boxplot(x=df['Selling_Price'])"
   ]
  },
  {
   "cell_type": "code",
   "execution_count": 15,
   "id": "05e15e6c",
   "metadata": {},
   "outputs": [],
   "source": [
    "percentile=np.percentile(df[\"Selling_Price\"],75)"
   ]
  },
  {
   "cell_type": "code",
   "execution_count": 17,
   "id": "a205720a",
   "metadata": {},
   "outputs": [
    {
     "data": {
      "text/plain": [
       "74"
      ]
     },
     "execution_count": 17,
     "metadata": {},
     "output_type": "execute_result"
    }
   ],
   "source": [
    "sum(df[\"Selling_Price\"]>percentile)"
   ]
  },
  {
   "cell_type": "code",
   "execution_count": 18,
   "id": "9598a238",
   "metadata": {},
   "outputs": [],
   "source": [
    "# There are 74 cars out of 301 which have Selling Price > 75th Percentile."
   ]
  },
  {
   "cell_type": "code",
   "execution_count": 19,
   "id": "c9b729c3",
   "metadata": {},
   "outputs": [
    {
     "data": {
      "text/plain": [
       "<AxesSubplot:xlabel='Selling_Price', ylabel='Count'>"
      ]
     },
     "execution_count": 19,
     "metadata": {},
     "output_type": "execute_result"
    },
    {
     "data": {
      "image/png": "[encoded data removed]",
      "text/plain": [
       "<Figure size 432x288 with 1 Axes>"
      ]
     },
     "metadata": {
      "needs_background": "light"
     },
     "output_type": "display_data"
    }
   ],
   "source": [
    "sns.histplot(df[\"Selling_Price\"])"
   ]
  },
  {
   "cell_type": "code",
   "execution_count": 13,
   "id": "70dba781",
   "metadata": {},
   "outputs": [
    {
     "data": {
      "text/plain": [
       "<AxesSubplot:xlabel='Present_Price'>"
      ]
     },
     "execution_count": 13,
     "metadata": {},
     "output_type": "execute_result"
    },
    {
     "data": {
      "image/png": "[encoded data removed]",
      "text/plain": [
       "<Figure size 432x288 with 1 Axes>"
      ]
     },
     "metadata": {
      "needs_background": "light"
     },
     "output_type": "display_data"
    }
   ],
   "source": [
    "sns.boxplot(x=df['Present_Price'])"
   ]
  },
  {
   "cell_type": "code",
   "execution_count": 20,
   "id": "94c491b6",
   "metadata": {},
   "outputs": [
    {
     "data": {
      "text/plain": [
       "<AxesSubplot:xlabel='Present_Price', ylabel='Count'>"
      ]
     },
     "execution_count": 20,
     "metadata": {},
     "output_type": "execute_result"
    },
    {
     "data": {
      "image/png": "[encoded data removed]",
      "text/plain": [
       "<Figure size 432x288 with 1 Axes>"
      ]
     },
     "metadata": {
      "needs_background": "light"
     },
     "output_type": "display_data"
    }
   ],
   "source": [
    "sns.histplot(df[\"Present_Price\"])"
   ]
  },
  {
   "cell_type": "code",
   "execution_count": 14,
   "id": "7c8c0a70",
   "metadata": {},
   "outputs": [
    {
     "data": {
      "text/plain": [
       "<AxesSubplot:xlabel='Driven_kms'>"
      ]
     },
     "execution_count": 14,
     "metadata": {},
     "output_type": "execute_result"
    },
    {
     "data": {
      "image/png": "[encoded data removed]",
      "text/plain": [
       "<Figure size 432x288 with 1 Axes>"
      ]
     },
     "metadata": {
      "needs_background": "light"
     },
     "output_type": "display_data"
    }
   ],
   "source": [
    "sns.boxplot(x=df['Driven_kms'])"
   ]
  },
  {
   "cell_type": "code",
   "execution_count": 22,
   "id": "50cbb1c4",
   "metadata": {},
   "outputs": [
    {
     "data": {
      "text/plain": [
       "Petrol    239\n",
       "Diesel     60\n",
       "CNG         2\n",
       "Name: Fuel_Type, dtype: int64"
      ]
     },
     "execution_count": 22,
     "metadata": {},
     "output_type": "execute_result"
    }
   ],
   "source": [
    "df[\"Fuel_Type\"].value_counts()"
   ]
  },
  {
   "cell_type": "code",
   "execution_count": 34,
   "id": "36443b9e",
   "metadata": {},
   "outputs": [
    {
     "name": "stderr",
     "output_type": "stream",
     "text": [
      "C:\\Users\\91983\\anaconda3\\lib\\site-packages\\seaborn\\_decorators.py:36: FutureWarning: Pass the following variable as a keyword arg: x. From version 0.12, the only valid positional argument will be `data`, and passing other arguments without an explicit keyword will result in an error or misinterpretation.\n",
      "  warnings.warn(\n"
     ]
    },
    {
     "data": {
      "text/plain": [
       "<AxesSubplot:xlabel='Fuel_Type', ylabel='count'>"
      ]
     },
     "execution_count": 34,
     "metadata": {},
     "output_type": "execute_result"
    },
    {
     "data": {
      "image/png": "[encoded data removed]",
      "text/plain": [
       "<Figure size 432x288 with 1 Axes>"
      ]
     },
     "metadata": {
      "needs_background": "light"
     },
     "output_type": "display_data"
    }
   ],
   "source": [
    "sns.countplot(df[\"Fuel_Type\"],hue=df[\"Fuel_Type\"],palette='viridis')\n",
    "     "
   ]
  },
  {
   "cell_type": "code",
   "execution_count": 39,
   "id": "8d03a733",
   "metadata": {},
   "outputs": [],
   "source": [
    "top10 = df['Car_Name'].value_counts().nlargest(10)"
   ]
  },
  {
   "cell_type": "code",
   "execution_count": 42,
   "id": "e3e6f258",
   "metadata": {},
   "outputs": [
    {
     "data": {
      "image/png": "[encoded data removed]",
      "text/plain": [
       "<Figure size 720x432 with 1 Axes>"
      ]
     },
     "metadata": {
      "needs_background": "light"
     },
     "output_type": "display_data"
    }
   ],
   "source": [
    "plt.figure(figsize = (10, 6))\n",
    "sns.countplot(y = df.Car_Name,order=top10.index, palette='viridis')\n",
    "plt.title(\"Top 10 Car companies with their cars\", fontsize = 10)\n",
    "plt.show()"
   ]
  },
  {
   "cell_type": "code",
   "execution_count": 43,
   "id": "17b74ac1",
   "metadata": {},
   "outputs": [
    {
     "data": {
      "text/plain": [
       "Index(['Car_Name', 'Fuel_Type', 'Selling_type', 'Transmission'], dtype='object')"
      ]
     },
     "execution_count": 43,
     "metadata": {},
     "output_type": "execute_result"
    }
   ],
   "source": [
    "# Categorical columns\n",
    "df.select_dtypes(include=['object']).columns     "
   ]
  },
  {
   "cell_type": "code",
   "execution_count": 45,
   "id": "b3a22f00",
   "metadata": {},
   "outputs": [
    {
     "data": {
      "text/plain": [
       "Index(['Year', 'Selling_Price', 'Present_Price', 'Driven_kms', 'Owner'], dtype='object')"
      ]
     },
     "execution_count": 45,
     "metadata": {},
     "output_type": "execute_result"
    }
   ],
   "source": [
    "# Numerical columns\n",
    "df.select_dtypes(exclude=['object']).columns"
   ]
  },
  {
   "cell_type": "code",
   "execution_count": 47,
   "id": "83d00eb7",
   "metadata": {},
   "outputs": [],
   "source": [
    "from sklearn.preprocessing import OneHotEncoder, LabelEncoder"
   ]
  },
  {
   "cell_type": "code",
   "execution_count": 48,
   "id": "45488843",
   "metadata": {},
   "outputs": [],
   "source": [
    "label_encoder = LabelEncoder()\n",
    "\n",
    "# Lets convert the categorical columns to numerical using LabelEncoder\n",
    "\n",
    "df['Car_Name'] = label_encoder.fit_transform(df['Car_Name'])\n",
    "df['Fuel_Type'] = label_encoder.fit_transform(df['Fuel_Type'])\n",
    "df['Selling_type'] = label_encoder.fit_transform(df['Selling_type'])\n",
    "df['Transmission'] = label_encoder.fit_transform(df['Transmission'])"
   ]
  },
  {
   "cell_type": "code",
   "execution_count": 49,
   "id": "cbbb4322",
   "metadata": {},
   "outputs": [
    {
     "data": {
      "text/html": [
       "<div>\n",
       "<style scoped>\n",
       "    .dataframe tbody tr th:only-of-type {\n",
       "        vertical-align: middle;\n",
       "    }\n",
       "\n",
       "    .dataframe tbody tr th {\n",
       "        vertical-align: top;\n",
       "    }\n",
       "\n",
       "    .dataframe thead th {\n",
       "        text-align: right;\n",
       "    }\n",
       "</style>\n",
       "<table border=\"1\" class=\"dataframe\">\n",
       "  <thead>\n",
       "    <tr style=\"text-align: right;\">\n",
       "      <th></th>\n",
       "      <th>Car_Name</th>\n",
       "      <th>Year</th>\n",
       "      <th>Selling_Price</th>\n",
       "      <th>Present_Price</th>\n",
       "      <th>Driven_kms</th>\n",
       "      <th>Fuel_Type</th>\n",
       "      <th>Selling_type</th>\n",
       "      <th>Transmission</th>\n",
       "      <th>Owner</th>\n",
       "    </tr>\n",
       "  </thead>\n",
       "  <tbody>\n",
       "    <tr>\n",
       "      <th>0</th>\n",
       "      <td>90</td>\n",
       "      <td>2014</td>\n",
       "      <td>3.35</td>\n",
       "      <td>5.59</td>\n",
       "      <td>27000</td>\n",
       "      <td>2</td>\n",
       "      <td>0</td>\n",
       "      <td>1</td>\n",
       "      <td>0</td>\n",
       "    </tr>\n",
       "    <tr>\n",
       "      <th>1</th>\n",
       "      <td>93</td>\n",
       "      <td>2013</td>\n",
       "      <td>4.75</td>\n",
       "      <td>9.54</td>\n",
       "      <td>43000</td>\n",
       "      <td>1</td>\n",
       "      <td>0</td>\n",
       "      <td>1</td>\n",
       "      <td>0</td>\n",
       "    </tr>\n",
       "    <tr>\n",
       "      <th>2</th>\n",
       "      <td>68</td>\n",
       "      <td>2017</td>\n",
       "      <td>7.25</td>\n",
       "      <td>9.85</td>\n",
       "      <td>6900</td>\n",
       "      <td>2</td>\n",
       "      <td>0</td>\n",
       "      <td>1</td>\n",
       "      <td>0</td>\n",
       "    </tr>\n",
       "    <tr>\n",
       "      <th>3</th>\n",
       "      <td>96</td>\n",
       "      <td>2011</td>\n",
       "      <td>2.85</td>\n",
       "      <td>4.15</td>\n",
       "      <td>5200</td>\n",
       "      <td>2</td>\n",
       "      <td>0</td>\n",
       "      <td>1</td>\n",
       "      <td>0</td>\n",
       "    </tr>\n",
       "    <tr>\n",
       "      <th>4</th>\n",
       "      <td>92</td>\n",
       "      <td>2014</td>\n",
       "      <td>4.60</td>\n",
       "      <td>6.87</td>\n",
       "      <td>42450</td>\n",
       "      <td>1</td>\n",
       "      <td>0</td>\n",
       "      <td>1</td>\n",
       "      <td>0</td>\n",
       "    </tr>\n",
       "  </tbody>\n",
       "</table>\n",
       "</div>"
      ],
      "text/plain": [
       "   Car_Name  Year  Selling_Price  Present_Price  Driven_kms  Fuel_Type  \\\n",
       "0        90  2014           3.35           5.59       27000          2   \n",
       "1        93  2013           4.75           9.54       43000          1   \n",
       "2        68  2017           7.25           9.85        6900          2   \n",
       "3        96  2011           2.85           4.15        5200          2   \n",
       "4        92  2014           4.60           6.87       42450          1   \n",
       "\n",
       "   Selling_type  Transmission  Owner  \n",
       "0             0             1      0  \n",
       "1             0             1      0  \n",
       "2             0             1      0  \n",
       "3             0             1      0  \n",
       "4             0             1      0  "
      ]
     },
     "execution_count": 49,
     "metadata": {},
     "output_type": "execute_result"
    }
   ],
   "source": [
    "df.head()"
   ]
  },
  {
   "cell_type": "code",
   "execution_count": 51,
   "id": "048f6233",
   "metadata": {},
   "outputs": [],
   "source": [
    "from sklearn.model_selection import train_test_split"
   ]
  },
  {
   "cell_type": "code",
   "execution_count": 52,
   "id": "44ca4447",
   "metadata": {},
   "outputs": [],
   "source": [
    "X = df.drop('Selling_Price', axis=1)\n",
    "y = df['Selling_Price']"
   ]
  },
  {
   "cell_type": "code",
   "execution_count": 53,
   "id": "21fb42c2",
   "metadata": {},
   "outputs": [],
   "source": [
    "X_train, X_test, y_train, y_test = train_test_split(X, y, test_size=0.2, random_state=35)"
   ]
  },
  {
   "cell_type": "code",
   "execution_count": 54,
   "id": "239e9c69",
   "metadata": {},
   "outputs": [],
   "source": [
    "from sklearn.preprocessing import StandardScaler"
   ]
  },
  {
   "cell_type": "code",
   "execution_count": 55,
   "id": "812c43a6",
   "metadata": {},
   "outputs": [],
   "source": [
    "scaler = StandardScaler()\n",
    "X_train_scaled = scaler.fit_transform(X_train)\n",
    "X_test_scaled = scaler.transform(X_test)"
   ]
  },
  {
   "cell_type": "code",
   "execution_count": 58,
   "id": "5b226820",
   "metadata": {},
   "outputs": [
    {
     "data": {
      "text/plain": [
       "array([[-1.5478145 ,  0.17353497, -0.73372919, ...,  1.29099445,\n",
       "         0.3992747 , -0.19618312],\n",
       "       [-0.90584203, -0.15965217, -0.68759295, ...,  1.29099445,\n",
       "         0.3992747 , -0.19618312],\n",
       "       [ 0.30257673,  0.83990926,  0.22842933, ..., -0.77459667,\n",
       "         0.3992747 , -0.19618312],\n",
       "       ...,\n",
       "       [ 0.56691833,  0.17353497,  0.28986985, ..., -0.77459667,\n",
       "         0.3992747 , -0.19618312],\n",
       "       [ 0.30257673, -1.49240076,  0.29545535, ..., -0.77459667,\n",
       "         0.3992747 , -0.19618312],\n",
       "       [ 0.86902303, -1.15921361, -0.06313386, ..., -0.77459667,\n",
       "         0.3992747 ,  3.42565907]])"
      ]
     },
     "execution_count": 58,
     "metadata": {},
     "output_type": "execute_result"
    }
   ],
   "source": [
    "X_train_scaled"
   ]
  },
  {
   "cell_type": "code",
   "execution_count": 59,
   "id": "8c10084c",
   "metadata": {},
   "outputs": [
    {
     "data": {
      "text/plain": [
       "array([[ 0.18928747,  1.17309641, -0.17372679, -0.46069961,  0.50832459,\n",
       "        -0.77459667,  0.3992747 , -0.19618312],\n",
       "       [ 0.60468142,  0.17353497,  0.17592562,  1.06907276, -1.79352262,\n",
       "        -0.77459667,  0.3992747 , -0.19618312],\n",
       "       [ 0.52915525,  1.17309641, -0.2150595 ,  0.00511607,  0.50832459,\n",
       "        -0.77459667,  0.3992747 , -0.19618312],\n",
       "       [ 0.56691833,  0.83990926,  0.38370628,  0.11296502, -1.79352262,\n",
       "        -0.77459667,  0.3992747 , -0.19618312],\n",
       "       [ 0.49139216,  0.50672212,  0.83054642,  0.12575297, -1.79352262,\n",
       "        -0.77459667,  0.3992747 , -0.19618312],\n",
       "       [ 0.30257673, -0.15965217,  0.28428435,  0.44045583,  0.50832459,\n",
       "        -0.77459667,  0.3992747 , -0.19618312],\n",
       "       [ 0.86902303,  1.17309641,  0.08320629, -0.83274504,  0.50832459,\n",
       "        -0.77459667,  0.3992747 , -0.19618312],\n",
       "       [ 1.35994315,  1.17309641, -0.02515245, -0.61656908,  0.50832459,\n",
       "        -0.77459667,  0.3992747 , -0.19618312],\n",
       "       [ 0.45362908,  0.50672212, -0.01733274,  0.25081186,  0.50832459,\n",
       "        -0.77459667,  0.3992747 , -0.19618312],\n",
       "       [ 0.3781029 , -0.49283932,  1.25727875,  0.80614313,  0.50832459,\n",
       "        -0.77459667,  0.3992747 , -0.19618312],\n",
       "       [ 0.41586599,  0.83990926,  0.69761148, -0.37295283,  0.50832459,\n",
       "        -0.77459667,  0.3992747 , -0.19618312],\n",
       "       [-1.13242055,  1.17309641, -0.76467287, -0.81924001,  0.50832459,\n",
       "         1.29099445, -2.50454133, -0.19618312],\n",
       "       [ 0.3781029 , -1.8255879 ,  1.72310959,  1.21248892,  0.50832459,\n",
       "        -0.77459667, -2.50454133, -0.19618312],\n",
       "       [ 0.86902303, -0.49283932, -0.06313386, -0.07825652,  0.50832459,\n",
       "        -0.77459667,  0.3992747 , -0.19618312],\n",
       "       [ 0.3781029 , -0.15965217,  1.25727875,  0.42372394,  0.50832459,\n",
       "        -0.77459667,  0.3992747 , -0.19618312],\n",
       "       [ 0.18928747,  0.50672212, -0.16255579, -0.56909833,  0.50832459,\n",
       "        -0.77459667,  0.3992747 , -0.19618312],\n",
       "       [-0.86807895,  1.17309641, -0.76132157, -0.70928762,  0.50832459,\n",
       "         1.29099445,  0.3992747 , -0.19618312],\n",
       "       [ 1.2088908 , -0.82602647,  0.07315239,  0.28028388,  0.50832459,\n",
       "        -0.77459667, -2.50454133, -0.19618312],\n",
       "       [-0.18834339,  1.17309641, -0.61833273, -0.88138702,  0.50832459,\n",
       "         1.29099445,  0.3992747 , -0.19618312],\n",
       "       [ 0.07599821,  0.17353497, -0.43512827,  0.16746317,  0.50832459,\n",
       "        -0.77459667,  0.3992747 , -0.19618312],\n",
       "       [ 1.32218006, -0.82602647, -0.35804835, -0.79055678,  0.50832459,\n",
       "        -0.77459667,  0.3992747 , -0.19618312],\n",
       "       [ 0.9445492 ,  0.50672212,  0.68197207, -0.00654844, -1.79352262,\n",
       "        -0.77459667,  0.3992747 , -0.19618312],\n",
       "       [ 1.17112772, -0.82602647, -0.26421192, -0.43679692,  0.50832459,\n",
       "        -0.77459667,  0.3992747 , -0.19618312],\n",
       "       [-1.51005142, -0.15965217, -0.75797027, -0.48460231,  0.50832459,\n",
       "         1.29099445,  0.3992747 , -0.19618312],\n",
       "       [ 0.9445492 ,  1.17309641,  1.76444231, -0.65192116,  0.50832459,\n",
       "        -0.77459667, -2.50454133, -0.19618312],\n",
       "       [ 0.79349685,  1.17309641, -0.18489779, -0.43407201,  0.50832459,\n",
       "        -0.77459667,  0.3992747 , -0.19618312],\n",
       "       [ 1.24665389,  1.17309641,  0.22842933, -0.55628649,  0.50832459,\n",
       "        -0.77459667,  0.3992747 , -0.19618312],\n",
       "       [-0.33939574,  0.17353497, -0.7293725 , -0.36508884,  0.50832459,\n",
       "         1.29099445,  0.3992747 , -0.19618312],\n",
       "       [ 0.30257673,  0.17353497,  0.28428435,  0.23247849, -1.79352262,\n",
       "        -0.77459667,  0.3992747 , -0.19618312],\n",
       "       [ 0.3781029 , -0.82602647,  0.57249624,  0.16077041, -1.79352262,\n",
       "        -0.77459667,  0.3992747 , -0.19618312],\n",
       "       [ 0.3781029 ,  1.17309641,  1.26063005, -0.70689736,  0.50832459,\n",
       "        -0.77459667,  0.3992747 , -0.19618312],\n",
       "       [-0.03729105,  0.50672212, -0.72780856, -0.36508884,  0.50832459,\n",
       "         1.29099445,  0.3992747 , -0.19618312],\n",
       "       [ 0.75573377,  1.17309641,  3.22560955, -0.77143463, -1.79352262,\n",
       "        -0.77459667, -2.50454133, -0.19618312],\n",
       "       [ 0.30257673, -0.82602647,  0.29545535,  0.74258587,  0.50832459,\n",
       "        -0.77459667,  0.3992747 , -0.19618312],\n",
       "       [ 1.09560154, -0.15965217, -0.27538292,  0.62763782,  0.50832459,\n",
       "        -0.77459667,  0.3992747 , -0.19618312],\n",
       "       [ 1.24665389, -0.15965217,  0.22842933,  0.16077041, -1.79352262,\n",
       "        -0.77459667,  0.3992747 , -0.19618312],\n",
       "       [ 0.30257673,  0.50672212,  0.69761148, -0.10215921,  0.50832459,\n",
       "        -0.77459667,  0.3992747 , -0.19618312],\n",
       "       [ 1.24665389, -0.49283932,  0.22842933,  0.51931081, -1.79352262,\n",
       "        -0.77459667,  0.3992747 , -0.19618312],\n",
       "       [ 0.1137613 ,  0.50672212, -0.17372679,  0.04180671,  0.50832459,\n",
       "        -0.77459667,  0.3992747 , -0.19618312],\n",
       "       [ 0.18928747,  0.83990926, -0.16255579, -0.78424647,  0.50832459,\n",
       "        -0.77459667,  0.3992747 , -0.19618312],\n",
       "       [-0.56597426,  1.17309641, -0.65743124, -0.81684974,  0.50832459,\n",
       "         1.29099445,  0.3992747 , -0.19618312],\n",
       "       [-0.37715883, -0.49283932, -0.73115986, -0.46069961,  0.50832459,\n",
       "         1.29099445,  0.3992747 , -0.19618312],\n",
       "       [-1.35899907,  0.50672212, -0.76020447, -0.75470274,  0.50832459,\n",
       "         1.29099445,  0.3992747 , -0.19618312],\n",
       "       [-0.52821117, -0.49283932, -0.62615243, -0.63996981,  0.50832459,\n",
       "         1.29099445,  0.3992747 , -0.19618312],\n",
       "       [-0.33939574, -0.82602647, -0.7293725 , -0.77143463,  0.50832459,\n",
       "         1.29099445,  0.3992747 , -0.19618312],\n",
       "       [-1.24570981,  0.50672212, -0.76132157, -0.58021308,  0.50832459,\n",
       "         1.29099445,  0.3992747 , -0.19618312],\n",
       "       [ 0.3781029 , -1.15921361,  1.72869509,  0.99736468,  0.50832459,\n",
       "        -0.77459667, -2.50454133, -0.19618312],\n",
       "       [ 1.24665389, -0.15965217,  0.22842933,  0.25638118, -1.79352262,\n",
       "        -0.77459667,  0.3992747 , -0.19618312],\n",
       "       [ 0.3781029 , -0.49283932,  0.71325088,  0.42370004,  0.50832459,\n",
       "        -0.77459667,  0.3992747 , -0.19618312],\n",
       "       [ 0.60468142,  0.50672212, -0.00951304,  0.05402098,  0.50832459,\n",
       "        -0.77459667,  0.3992747 , -0.19618312],\n",
       "       [ 0.75573377, -1.15921361,  1.46282521,  0.49540812, -1.79352262,\n",
       "        -0.77459667,  0.3992747 , -0.19618312],\n",
       "       [ 0.60468142,  0.50672212,  0.03852227,  0.05531173,  0.50832459,\n",
       "        -0.77459667,  0.3992747 , -0.19618312],\n",
       "       [-2.07649771,  0.83990926, -0.71552046, -0.90289944,  0.50832459,\n",
       "         1.29099445,  0.3992747 , -0.19618312],\n",
       "       [ 1.24665389,  0.50672212,  0.22842933, -0.05435383,  0.50832459,\n",
       "        -0.77459667,  0.3992747 , -0.19618312],\n",
       "       [ 0.30257673,  0.50672212,  0.69761148, -0.31728345,  0.50832459,\n",
       "        -0.77459667,  0.3992747 , -0.19618312],\n",
       "       [ 1.17112772,  1.17309641, -0.09664687, -0.52762716,  0.50832459,\n",
       "         1.29099445,  0.3992747 , -0.19618312],\n",
       "       [ 0.30257673,  0.83990926,  0.69761148,  0.2698145 ,  0.50832459,\n",
       "        -0.77459667,  0.3992747 , -0.19618312],\n",
       "       [-0.49044808, -0.82602647, -0.65407994, -0.7499222 ,  0.50832459,\n",
       "         1.29099445,  0.3992747 , -0.19618312],\n",
       "       [-1.01913129, -0.15965217, -0.74009667, -0.62801847,  0.50832459,\n",
       "         1.29099445,  0.3992747 , -0.19618312],\n",
       "       [ 0.30257673,  0.50672212,  0.69761148, -0.39425013,  0.50832459,\n",
       "        -0.77459667,  0.3992747 , -0.19618312],\n",
       "       [ 0.79349685,  0.50672212, -0.18489779, -0.08310877,  0.50832459,\n",
       "        -0.77459667, -2.50454133, -0.19618312]])"
      ]
     },
     "execution_count": 59,
     "metadata": {},
     "output_type": "execute_result"
    }
   ],
   "source": [
    "X_test_scaled"
   ]
  },
  {
   "cell_type": "markdown",
   "id": "b76b3f62",
   "metadata": {},
   "source": [
    "## Model Building\n",
    "\n",
    "1] Linear Regression\n",
    "2] Decision Tree Regressor\n",
    "3] Random Forest Regressor"
   ]
  },
  {
   "cell_type": "code",
   "execution_count": 62,
   "id": "08568f8a",
   "metadata": {},
   "outputs": [],
   "source": [
    "from sklearn.linear_model import LinearRegression\n",
    "from sklearn.tree import DecisionTreeRegressor\n",
    "from sklearn.ensemble import RandomForestRegressor\n",
    "\n",
    "from sklearn.metrics import mean_squared_error, r2_score\n",
    "from sklearn.compose import ColumnTransformer\n",
    "from sklearn.pipeline import Pipeline"
   ]
  },
  {
   "cell_type": "code",
   "execution_count": 63,
   "id": "8a4b09d0",
   "metadata": {},
   "outputs": [],
   "source": [
    "# Linear Regression\n",
    "linear_reg = LinearRegression()\n",
    "linear_reg.fit(X_train_scaled, y_train)\n",
    "linear_reg_pred = linear_reg.predict(X_test_scaled)"
   ]
  },
  {
   "cell_type": "code",
   "execution_count": 64,
   "id": "fce1e669",
   "metadata": {},
   "outputs": [],
   "source": [
    "# Decision Tree Regressor\n",
    "decision_tree_reg = DecisionTreeRegressor(random_state=42)\n",
    "decision_tree_reg.fit(X_train_scaled, y_train)\n",
    "decision_tree_pred = decision_tree_reg.predict(X_test_scaled)"
   ]
  },
  {
   "cell_type": "code",
   "execution_count": 65,
   "id": "ce28d087",
   "metadata": {},
   "outputs": [],
   "source": [
    "# Random Forest Regressor\n",
    "random_forest_reg = RandomForestRegressor(n_estimators=100, random_state=42)\n",
    "random_forest_reg.fit(X_train_scaled, y_train)\n",
    "random_forest_pred = random_forest_reg.predict(X_test_scaled)"
   ]
  },
  {
   "cell_type": "code",
   "execution_count": 66,
   "id": "7e6b5e95",
   "metadata": {},
   "outputs": [],
   "source": [
    "# Lets evaluate the models"
   ]
  },
  {
   "cell_type": "code",
   "execution_count": 67,
   "id": "ffb50003",
   "metadata": {},
   "outputs": [
    {
     "name": "stdout",
     "output_type": "stream",
     "text": [
      "Linear Regression - Mean Squared Error: 6.507819977947047, R-squared: 0.7688828477496815\n",
      "Decision Tree Regressor - Mean Squared Error: 2.2728442622950817, R-squared: 0.9192827559474342\n",
      "Random Forest Regressor - Mean Squared Error: 3.4803063719672105, R-squared: 0.8764012372233072\n"
     ]
    }
   ],
   "source": [
    "models = {'Linear Regression': linear_reg, 'Decision Tree Regressor': decision_tree_reg,\n",
    "          'Random Forest Regressor': random_forest_reg,}\n",
    "for name, model in models.items():\n",
    "    predictions = model.predict(X_test_scaled)\n",
    "    mse = mean_squared_error(y_test, predictions)\n",
    "    r2 = r2_score(y_test, predictions)\n",
    "    print(f'{name} - Mean Squared Error: {mse}, R-squared: {r2}')"
   ]
  }
 ],
 "metadata": {
  "kernelspec": {
   "display_name": "Python 3 (ipykernel)",
   "language": "python",
   "name": "python3"
  },
  "language_info": {
   "codemirror_mode": {
    "name": "ipython",
    "version": 3
   },
   "file_extension": ".py",
   "mimetype": "text/x-python",
   "name": "python",
   "nbconvert_exporter": "python",
   "pygments_lexer": "ipython3",
   "version": "3.9.12"
  }
 },
 "nbformat": 4,
 "nbformat_minor": 5
}
